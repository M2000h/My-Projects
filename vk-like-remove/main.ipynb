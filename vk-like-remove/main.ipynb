{
 "cells": [
  {
   "cell_type": "code",
   "execution_count": 1,
   "metadata": {
    "pycharm": {
     "is_executing": true
    }
   },
   "outputs": [],
   "source": [
    "from selenium.webdriver.common.keys import Keys\n",
    "from selenium.webdriver.common.by import By\n",
    "from selenium import webdriver\n",
    "import vk_captchasolver as vc\n",
    "from time import sleep\n",
    "import json"
   ]
  },
  {
   "cell_type": "code",
   "execution_count": 5,
   "metadata": {},
   "outputs": [],
   "source": [
    "driver = webdriver.Chrome()\n"
   ]
  },
  {
   "cell_type": "code",
   "execution_count": 6,
   "metadata": {},
   "outputs": [],
   "source": [
    "driver.get(\"https://vk.com/\") # нужно авторизоваться ручками на странице"
   ]
  },
  {
   "cell_type": "code",
   "execution_count": 36,
   "metadata": {},
   "outputs": [],
   "source": [
    "driver.get(\"https://vk.com/feed?section=likes\")"
   ]
  },
  {
   "cell_type": "code",
   "execution_count": 78,
   "metadata": {},
   "outputs": [],
   "source": [
    "from selenium.common.exceptions import NoSuchElementException\n",
    "# Возвращает инфу появилась ли капча\n",
    "def check_captcha_exists():\n",
    "    try:\n",
    "        el = driver.find_element(By.CLASS_NAME, \"captcha\")\n",
    "    except NoSuchElementException as e:\n",
    "        return False\n",
    "    return True\n"
   ]
  },
  {
   "cell_type": "code",
   "execution_count": 197,
   "metadata": {},
   "outputs": [],
   "source": [
    "from PIL import Image\n",
    "from io import BytesIO\n",
    "# резолвит капчу\n",
    "def solve_capctha():\n",
    "    el = driver.find_element(By.CLASS_NAME, \"captcha\")\n",
    "    img = el.find_element(By.TAG_NAME, \"img\")\n",
    "    png = driver.get_screenshot_as_png()\n",
    "    im = Image.open(BytesIO(png))\n",
    "    location = img.location_once_scrolled_into_view\n",
    "    left = location['x'] + img.size['width']*1.35\n",
    "    top =  location['y'] + img.size['height']*1.2\n",
    "    right = location['x'] + img.size['width']*2.6\n",
    "    bottom = location['y'] + img.size['height']*2.4\n",
    "    im = im.crop((left, top, right, bottom))\n",
    "    im.save('test.png') \n",
    "    captcha = vc.solve(image='test.png')\n",
    "    print(captcha)\n",
    "    inputElement = driver.find_element(By.CLASS_NAME, \"big_text\")\n",
    "    inputElement.send_keys(captcha)\n",
    "    sleep(1)\n",
    "    inputElement.send_keys(Keys.ENTER)"
   ]
  },
  {
   "cell_type": "code",
   "execution_count": 201,
   "metadata": {},
   "outputs": []
    },
    {
     "ename": "KeyboardInterrupt",
     "evalue": "",
     "output_type": "error",
     "traceback": [
      "\u001b[1;31m---------------------------------------------------------------------------\u001b[0m",
      "\u001b[1;31mKeyboardInterrupt\u001b[0m                         Traceback (most recent call last)",
      "Cell \u001b[1;32mIn[201], line 11\u001b[0m\n\u001b[0;32m      9\u001b[0m     sleep(\u001b[38;5;241m5\u001b[39m)\n\u001b[0;32m     10\u001b[0m     solve_capctha()\n\u001b[1;32m---> 11\u001b[0m     \u001b[43msleep\u001b[49m\u001b[43m(\u001b[49m\u001b[38;5;241;43m3\u001b[39;49m\u001b[43m)\u001b[49m\n\u001b[0;32m     12\u001b[0m driver\u001b[38;5;241m.\u001b[39mfind_element(By\u001b[38;5;241m.\u001b[39mTAG_NAME, \u001b[38;5;124m\"\u001b[39m\u001b[38;5;124mbody\u001b[39m\u001b[38;5;124m\"\u001b[39m)\u001b[38;5;241m.\u001b[39msend_keys(Keys\u001b[38;5;241m.\u001b[39mARROW_RIGHT)\n\u001b[0;32m     13\u001b[0m sleep(\u001b[38;5;241m2\u001b[39m)\n",
      "\u001b[1;31mKeyboardInterrupt\u001b[0m: "
     ]
    }
   ],
   "source": [
    "# удаляет лайки из фотографий \"Понравилось\". \n",
    "# раскоментить строку ниже либо открыть любую фотку из альбома самому\n",
    "# driver.get(\"https://vk.com/feed?section=likes&z=xxxxxxxxx\")\n",
    "# sleep(10)\n",
    "\n",
    "while True:\n",
    "    try:\n",
    "        driver.find_element(By.CLASS_NAME, \"active\").click()\n",
    "    except Exception:\n",
    "        pass\n",
    "    while check_captcha_exists():\n",
    "        sleep(5)\n",
    "        solve_capctha()\n",
    "        sleep(3)\n",
    "    driver.find_element(By.TAG_NAME, \"body\").send_keys(Keys.ARROW_RIGHT)\n",
    "    sleep(2)"
   ]
  },
  {
   "cell_type": "code",
   "execution_count": 194,
   "metadata": {
    "scrolled": true
   },
   "outputs": [
    {
     "name": "stdout",
     "output_type": "stream",
     "text": [
      "1\n",
      "ok\n"
     ]
    },
    {
     "ename": "KeyboardInterrupt",
     "evalue": "",
     "output_type": "error",
     "traceback": [
      "\u001b[1;31m---------------------------------------------------------------------------\u001b[0m",
      "\u001b[1;31mKeyboardInterrupt\u001b[0m                         Traceback (most recent call last)",
      "Cell \u001b[1;32mIn[194], line 24\u001b[0m\n\u001b[0;32m     22\u001b[0m driver\u001b[38;5;241m.\u001b[39mget(\u001b[38;5;124m\"\u001b[39m\u001b[38;5;124mhttps://vk.com/feed?section=likes\u001b[39m\u001b[38;5;124m\"\u001b[39m)\n\u001b[0;32m     23\u001b[0m elements \u001b[38;5;241m=\u001b[39m driver\u001b[38;5;241m.\u001b[39mfind_elements(By\u001b[38;5;241m.\u001b[39mCLASS_NAME, \u001b[38;5;124m\"\u001b[39m\u001b[38;5;124mPostButtonReactions--active\u001b[39m\u001b[38;5;124m\"\u001b[39m)\n\u001b[1;32m---> 24\u001b[0m \u001b[43mremove\u001b[49m\u001b[43m(\u001b[49m\u001b[43melements\u001b[49m\u001b[43m)\u001b[49m\n\u001b[0;32m     25\u001b[0m elements \u001b[38;5;241m=\u001b[39m driver\u001b[38;5;241m.\u001b[39mfind_elements(By\u001b[38;5;241m.\u001b[39mCLASS_NAME, \u001b[38;5;124m\"\u001b[39m\u001b[38;5;124mactive\u001b[39m\u001b[38;5;124m\"\u001b[39m)\n\u001b[0;32m     26\u001b[0m remove(elements)\n",
      "Cell \u001b[1;32mIn[194], line 19\u001b[0m, in \u001b[0;36mremove\u001b[1;34m(elements)\u001b[0m\n\u001b[0;32m     17\u001b[0m     \u001b[38;5;28mprint\u001b[39m(\u001b[38;5;124m\"\u001b[39m\u001b[38;5;124mkek\u001b[39m\u001b[38;5;124m\"\u001b[39m)\n\u001b[0;32m     18\u001b[0m     sleep(\u001b[38;5;241m5\u001b[39m)\n\u001b[1;32m---> 19\u001b[0m \u001b[43msleep\u001b[49m\u001b[43m(\u001b[49m\u001b[38;5;241;43m1\u001b[39;49m\u001b[43m)\u001b[49m\n",
      "\u001b[1;31mKeyboardInterrupt\u001b[0m: "
     ]
    }
   ],
   "source": [
    "# удаляет лайки с постов и комментов (список начинаетаеся с начала 2021 года, более ранние данные сайт не дает)\n",
    "def remove(elements):\n",
    "    print(len(elements))\n",
    "    for elem in elements:\n",
    "        try:\n",
    "            elem.click()\n",
    "            print(\"ok\")\n",
    "        except Exception:\n",
    "            print(\"fuck1\")\n",
    "        while check_captcha_exists():\n",
    "            sleep(5)\n",
    "            solve_capctha()\n",
    "            print(\"kek\")\n",
    "            sleep(5)\n",
    "        sleep(1)\n",
    "\n",
    "while True:\n",
    "    driver.get(\"https://vk.com/feed?section=likes\")\n",
    "    elements = driver.find_elements(By.CLASS_NAME, \"PostButtonReactions--active\")\n",
    "    remove(elements)\n",
    "    elements = driver.find_elements(By.CLASS_NAME, \"active\")\n",
    "    remove(elements)\n",
    "    sleep(5)"
   ]
  }
 ],
 "metadata": {
  "kernelspec": {
   "display_name": "Python 3 (ipykernel)",
   "language": "python",
   "name": "python3"
  },
  "language_info": {
   "codemirror_mode": {
    "name": "ipython",
    "version": 3
   },
   "file_extension": ".py",
   "mimetype": "text/x-python",
   "name": "python",
   "nbconvert_exporter": "python",
   "pygments_lexer": "ipython3",
   "version": "3.8.7"
  }
 },
 "nbformat": 4,
 "nbformat_minor": 1
}
